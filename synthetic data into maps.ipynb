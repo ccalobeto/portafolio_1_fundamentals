{
 "cells": [
  {
   "cell_type": "code",
   "execution_count": 1,
   "metadata": {},
   "outputs": [],
   "source": [
    "# Install a pip package in the current Jupyter kernel\n",
    "#import sys\n",
    "#!{sys.executable} -m pip install faker\n",
    "#!{sys.executable} -m pip install geopy\n",
    "#!{sys.executable} -m pip install arcgis\n",
    "#!{sys.executable} -m pip install folium"
   ]
  },
  {
   "cell_type": "code",
   "execution_count": null,
   "metadata": {},
   "outputs": [],
   "source": []
  },
  {
   "cell_type": "code",
   "execution_count": 2,
   "metadata": {},
   "outputs": [],
   "source": [
    "import pandas as pd\n",
    "from random import randint\n",
    "import random\n",
    "import numpy as np\n",
    "import calendar\n",
    "\n",
    "from faker import Faker\n",
    "from faker.providers import internet, geo\n",
    "from random import gauss\n",
    "\n",
    "from geopy.geocoders import Nominatim\n",
    "import matplotlib.pyplot as plt\n",
    "from matplotlib.colors import ListedColormap\n",
    "%matplotlib inline"
   ]
  },
  {
   "cell_type": "code",
   "execution_count": 3,
   "metadata": {},
   "outputs": [],
   "source": [
    "medicines_ = pd.read_excel('../data/raw/LM_noviembre_2018.xlsx')"
   ]
  },
  {
   "cell_type": "code",
   "execution_count": 4,
   "metadata": {},
   "outputs": [],
   "source": [
    "import re\n",
    "def lowerNameColumns(df):\n",
    "    columns = [re.sub('\\s+', '_', x.lower()) for x in df.columns.tolist()]\n",
    "    return columns\n",
    "\n",
    "# Column names normalization\n",
    "medicines_.columns = lowerNameColumns(medicines_)\n"
   ]
  },
  {
   "cell_type": "code",
   "execution_count": 5,
   "metadata": {},
   "outputs": [],
   "source": [
    "medicines = medicines_.copy()\n",
    "\n",
    "# Do some cleaning\n",
    "medicines['nivel'].fillna('X', inplace=True)\n",
    "\n",
    "index = medicines[medicines['nivel'].str.contains(r'[\\d].[\\d].[\\d]')].index.values\n",
    "medicines.loc[index, 'nivel'] = 'X'\n",
    "\n",
    "index = medicines[medicines['nivel'].str.contains(r'[\\d].[\\d]')].index.values\n",
    "medicines['subcategoria'] = medicines.loc[index,'nivel']\n",
    "medicines.loc[index, 'nivel'] = 'X'\n",
    "\n",
    "index = medicines[medicines['nivel'].str.contains(r'[\\d].')].index.values\n",
    "medicines['categoria'] = medicines.loc[index,'nivel']\n",
    "medicines.loc[index, 'nivel'] = 'X'\n",
    "\n",
    "medicines['subcategoria'].fillna(method='ffill', inplace=True)\n",
    "medicines['categoria'].fillna(method='ffill', inplace=True)\n",
    "\n",
    "index = medicines[medicines['nivel'].str.lower()==medicines.columns[0]].index.values\n",
    "medicines.loc[index, 'nivel'] = 'X'\n",
    "\n",
    "medicines = medicines[medicines['nivel']!='X'].reset_index(drop=True)\n",
    "\n",
    "medicines.rename(columns={'forma,_concentración_y_presentación':'presentación',\n",
    "                         'nombre_genérico_(dci)':'nombre_genérico'}, inplace=True)\n",
    "\n",
    "medicines['código'] = medicines['código'].astype('int')\n",
    "\n",
    "medicines['subcategoria'] = medicines['subcategoria'].replace('\\d\\S+\\s','', regex=True)\n",
    "medicines['categoria'] = medicines['categoria'].replace('\\d\\S+\\s','', regex=True)"
   ]
  },
  {
   "cell_type": "code",
   "execution_count": 6,
   "metadata": {},
   "outputs": [
    {
     "name": "stdout",
     "output_type": "stream",
     "text": [
      "nro. de antihipertensivos : 29\n"
     ]
    }
   ],
   "source": [
    "# Select only category of medicine to construct the pivot\n",
    "category = 'Antihipertensivos'\n",
    "antihiper_codes = medicines[medicines['subcategoria']==category]['código'].to_list()\n",
    "antihiper_subcat = medicines[medicines['subcategoria']==category]['nombre_genérico'].to_list()\n",
    "print('nro. de antihipertensivos :', len(antihiper_codes))\n",
    "\n",
    "# Generate random products, items and prices\n",
    "N = 1000\n",
    "choice = np.random.choice([0,1], p=[0.7,0.3], size=(N, len(antihiper_codes)))\n",
    "quantity_ = np.random.choice([1,2,3,4], p=[.5, .3, .15, .05], size=(N, len(antihiper_codes)))\n",
    "quantity = choice * quantity_\n",
    "\n",
    "prices = np.array([round(random.uniform(10.5, 50.5),2) for x in range(len(antihiper_codes))])\n",
    "totalprice = prices * quantity\n",
    "\n",
    "# convert pivot into dataframe with unstack\n",
    "pivot_q = pd.DataFrame(data=quantity, columns=antihiper_codes)\n",
    "pivot_q.replace(0,np.NaN, inplace=True)\n",
    "pivot_p = pd.DataFrame(data=totalprice, columns=antihiper_codes)\n",
    "pivot_p.replace(0,np.NaN, inplace=True)\n",
    "\n",
    "dfq = pivot_q.unstack(level=0).reset_index()\n",
    "dfq.rename(columns={'level_0':'code_m', 'level_1':'cliente_id', 0:'cantidad'}, inplace=True)\n",
    "dfq.dropna(subset=['cantidad'], inplace=True)\n",
    "dfp = pivot_p.unstack(level=0).reset_index()\n",
    "dfp.rename(columns={'level_0':'code_m', 'level_1':'cliente_id', 0:'precio_total'}, inplace=True)\n",
    "dfp.dropna(subset=['precio_total'], inplace=True)\n",
    "df = pd.concat([dfq, dfp[['precio_total']]], axis=1)\n",
    "df = df[['cliente_id', 'code_m', 'cantidad', 'precio_total']].reset_index(drop=True)"
   ]
  },
  {
   "cell_type": "code",
   "execution_count": 7,
   "metadata": {},
   "outputs": [
    {
     "data": {
      "text/html": [
       "<div>\n",
       "<style scoped>\n",
       "    .dataframe tbody tr th:only-of-type {\n",
       "        vertical-align: middle;\n",
       "    }\n",
       "\n",
       "    .dataframe tbody tr th {\n",
       "        vertical-align: top;\n",
       "    }\n",
       "\n",
       "    .dataframe thead th {\n",
       "        text-align: right;\n",
       "    }\n",
       "</style>\n",
       "<table border=\"1\" class=\"dataframe\">\n",
       "  <thead>\n",
       "    <tr style=\"text-align: right;\">\n",
       "      <th></th>\n",
       "      <th>cliente_id</th>\n",
       "      <th>code_m</th>\n",
       "      <th>cantidad</th>\n",
       "      <th>precio_total</th>\n",
       "    </tr>\n",
       "  </thead>\n",
       "  <tbody>\n",
       "    <tr>\n",
       "      <th>4402</th>\n",
       "      <td>500</td>\n",
       "      <td>2059</td>\n",
       "      <td>4.0</td>\n",
       "      <td>78.88</td>\n",
       "    </tr>\n",
       "    <tr>\n",
       "      <th>5026</th>\n",
       "      <td>500</td>\n",
       "      <td>624</td>\n",
       "      <td>2.0</td>\n",
       "      <td>74.84</td>\n",
       "    </tr>\n",
       "    <tr>\n",
       "      <th>5654</th>\n",
       "      <td>500</td>\n",
       "      <td>2003</td>\n",
       "      <td>2.0</td>\n",
       "      <td>100.22</td>\n",
       "    </tr>\n",
       "  </tbody>\n",
       "</table>\n",
       "</div>"
      ],
      "text/plain": [
       "      cliente_id  code_m  cantidad  precio_total\n",
       "4402         500    2059       4.0         78.88\n",
       "5026         500     624       2.0         74.84\n",
       "5654         500    2003       2.0        100.22"
      ]
     },
     "execution_count": 7,
     "metadata": {},
     "output_type": "execute_result"
    }
   ],
   "source": [
    "df[df['cliente_id']==500]"
   ]
  },
  {
   "cell_type": "code",
   "execution_count": null,
   "metadata": {},
   "outputs": [],
   "source": []
  },
  {
   "cell_type": "code",
   "execution_count": 8,
   "metadata": {},
   "outputs": [],
   "source": [
    "# make fake data\n",
    "fake = Faker()\n",
    "ROWS = 10000"
   ]
  },
  {
   "cell_type": "code",
   "execution_count": 9,
   "metadata": {},
   "outputs": [],
   "source": [
    "products = {\n",
    "    # Product : [Price, weight]  # weight to do it more choiceable\n",
    "    'Apple iPhone11 Smartphone':[3379, 5],\n",
    "    'Samsung GalaxyS10 Smartphone':[2329, 5],\n",
    "    'Motorola MotoG8 Smartphone':[789, 25],\n",
    "    'Huawei Y6 Smartphone':[1149, 15],\n",
    "    'Apple MacBookPro Laptop':[11099, 2],\n",
    "    'Lenovo Ideapad Laptop':[2499, 5],\n",
    "    'Asus Ryzen Laptop':[2199, 5],\n",
    "    'Acer SF314-41 Laptop':[2799, 5],\n",
    "    'Skullcandy Headphones':[419, 30],\n",
    "    'Apple Airpods(2da generación) Headphones':[629, 25],\n",
    "    'Beats Studio3 Headphones':[1499, 15],\n",
    "    'Bose SoundSport Headphones':[549, 25],\n",
    "    'Bose Soundlink Speaker':[899, 25],\n",
    "    'JBL Go2 Speaker':[129, 30],\n",
    "    'Ultimate Ears Speaker':[329, 30],\n",
    "    'Sonos Play5 Speaker':[2499, 5],\n",
    "    'Apple Series5 Watch':[2499, 5],\n",
    "    'Garmin Forerunner645 Watch':[1919.9, 15],\n",
    "    'Radioshack Smart Watch':[189.9, 30],\n",
    "    'Huawei GT2E Watch':[549, 25],\n",
    "    'Mophie Powerstation Battery':[349, 30],\n",
    "    'Belkin USB-C Charger':[179, 30],\n",
    "    'Palace Universal Case':[129, 30],\n",
    "    'NCO Universal GlassGuard':[99, 30]\n",
    "}"
   ]
  },
  {
   "cell_type": "code",
   "execution_count": 10,
   "metadata": {},
   "outputs": [],
   "source": [
    "from datetime import timedelta\n",
    "from datetime import datetime\n",
    "\n",
    "def generate_random_time(month):\n",
    "    # Generate a random date with two peaks at 12 and 20\n",
    "    YEAR = 2020\n",
    "    day_range = calendar.monthrange(YEAR, month)[1]\n",
    "    random_day = random.randint(1, day_range)\n",
    "    \n",
    "    if random.random() > 0.5:\n",
    "        date = datetime(YEAR, month, random_day, 12,0)\n",
    "    else:\n",
    "        date = datetime(YEAR, month, random_day, 20,0)\n",
    "        \n",
    "    time_offset = np.random.normal(loc=0, scale=180)\n",
    "    final_date = date + timedelta(minutes=time_offset)\n",
    "    \n",
    "    return final_date\n",
    "    \n",
    "    \n",
    "def generate_random_address():\n",
    "    # Generate random address\n",
    "    addresses = ['Av. Javier Prado Oeste 770, Magdalena, Magdalena, Lima', \n",
    "                 'Av. Cuba 1145, Jesús María, Jesús María, Lima',\n",
    "                 'Calle Montemar 167, Santiago de Surco, Santiago de Surco, Lima', \n",
    "                 'Av. Brasil 1670 , Pueblo Libre, Lima', \n",
    "                 'Nicolás de Piérola 140, San Miguel, Lima', \n",
    "                 'Alfredo Salazar 154, Miraflores, Lima', \n",
    "                 'Micaela Bastidas 1100, El Retablo, Comas',\n",
    "                 'los cisnes 371, Limatambo, San Isidro',\n",
    "                 'Av. Cesar Vallejo 223, Lince, Lince, Lima',\n",
    "                 'Av. Chorrillos 640, Chorrillos, Lima',\n",
    "                 'Av. 10 de Junio 1020, San Martín de Porres, Lima', \n",
    "                 'Av. Angamos Este 1551, Surquillo, Lima', \n",
    "                 'Granada 135, Pueblo Libre, Lima',\n",
    "                 'Av. Petit Thouars 1291, Santa Beatriz, Lima']\n",
    "    \n",
    "    weights = [9,4,5,2,3,3,2,0.5,6,3,5,1,7,8]\n",
    "    \n",
    "    izibussiness = [8294148, 8294149, 8294150, 8294151, 8294152, 8294153, 8294154, \n",
    "                    8294155, 8294156, 8294157, 8294158, 8294159, 8294160, 8294161]\n",
    "    \n",
    "    index = random.choices(range(len(addresses)), weights=weights)[0]\n",
    "    \n",
    "    return addresses[index], izibussiness[index]\n",
    "\n",
    "def write_row(order_id, product, date, address):\n",
    "    price = products[product][0]\n",
    "    quantity = np.random.geometric(p=1-(10/price), size=1)[0]\n",
    "    \n",
    "    return [order_id, product, quantity, price, date, address]\n",
    "    "
   ]
  },
  {
   "cell_type": "code",
   "execution_count": 11,
   "metadata": {},
   "outputs": [
    {
     "name": "stdout",
     "output_type": "stream",
     "text": [
      "January Finished!!\n"
     ]
    }
   ],
   "source": [
    "\n",
    "cards = [fake.credit_card_number() for x in range(ROWS)]\n",
    "\n",
    "columns = ['orderid', 'product', 'quantity', 'price', 'orderdate', \n",
    "           'address']\n",
    "\n",
    "product_list = [product for product in products]\n",
    "weights = [products[product][1] for product in products]\n",
    "order_id = 14356\n",
    "\n",
    "for month_value in range(1, 13):\n",
    "    if month_value<=10:\n",
    "        #orders_amount = int(np.random.normal(loc=12000, scale=4000))\n",
    "        orders_amount = 100\n",
    "    elif month_value==11:\n",
    "         orders_amount = int(np.random.normal(loc=20000, scale=3000))\n",
    "    elif month_value==12:\n",
    "         orders_amount = int(np.random.normal(loc=26000, scale=3000))\n",
    "            \n",
    "    df = pd.DataFrame(columns=columns)\n",
    "    \n",
    "    i = 0\n",
    "\n",
    "    while orders_amount > 0:\n",
    "        address, izibussiness = generate_random_address()\n",
    "        date = generate_random_time(month_value)\n",
    "        product = random.choices(product_list, weights=weights)[0]\n",
    "        df.loc[i] = write_row(order_id, product, date, address)\n",
    "        i += 1\n",
    "        \n",
    "        if product=='Apple iPhone11 Smartphone':\n",
    "            if random.random() < 0.15:\n",
    "                df.loc[i] = write_row(order_id, \n",
    "                                      'Apple Airpods(2da generación) Headphones', \n",
    "                                      date, address)\n",
    "                i += 1\n",
    "            if random.random() < 0.07:\n",
    "                df.loc[i] = write_row(order_id, 'JBL Go2 Speaker', \n",
    "                                      date, address)\n",
    "                i += 1\n",
    "        elif product=='Samsung GalaxyS10 Smartphone' or product=='Huawei Y6 Smartphone':\n",
    "            if random.random() < 0.18:\n",
    "                df.loc[i] = write_row(order_id, \n",
    "                                        'NCO Universal GlassGuard', \n",
    "                                         date, address)\n",
    "                i += 1\n",
    "        \n",
    "        if random.random() <= 0.02:\n",
    "            product2 = random.choices(product_list, \n",
    "                                      weights=weights)[0]\n",
    "            df.loc[i] = write_row(order_id, product2, date, address)\n",
    "            i += 1\n",
    "                \n",
    "        order_id += 1\n",
    "        orders_amount -=1\n",
    "        \n",
    "    month_name = calendar.month_name[month_value]\n",
    "    print(month_name + ' Finished!!')\n",
    "    df.to_excel(f\"../data/processed/{month_name}_data.xlsx\")\n",
    "    break\n"
   ]
  },
  {
   "cell_type": "code",
   "execution_count": 12,
   "metadata": {},
   "outputs": [
    {
     "data": {
      "text/html": [
       "<div>\n",
       "<style scoped>\n",
       "    .dataframe tbody tr th:only-of-type {\n",
       "        vertical-align: middle;\n",
       "    }\n",
       "\n",
       "    .dataframe tbody tr th {\n",
       "        vertical-align: top;\n",
       "    }\n",
       "\n",
       "    .dataframe thead th {\n",
       "        text-align: right;\n",
       "    }\n",
       "</style>\n",
       "<table border=\"1\" class=\"dataframe\">\n",
       "  <thead>\n",
       "    <tr style=\"text-align: right;\">\n",
       "      <th></th>\n",
       "      <th>orderid</th>\n",
       "      <th>product</th>\n",
       "      <th>quantity</th>\n",
       "      <th>price</th>\n",
       "      <th>orderdate</th>\n",
       "      <th>address</th>\n",
       "    </tr>\n",
       "  </thead>\n",
       "  <tbody>\n",
       "    <tr>\n",
       "      <th>0</th>\n",
       "      <td>14356</td>\n",
       "      <td>Palace Universal Case</td>\n",
       "      <td>1</td>\n",
       "      <td>129</td>\n",
       "      <td>2020-01-31 12:14:55.797447</td>\n",
       "      <td>Alfredo Salazar 154, Miraflores, Lima</td>\n",
       "    </tr>\n",
       "    <tr>\n",
       "      <th>1</th>\n",
       "      <td>14357</td>\n",
       "      <td>Huawei Y6 Smartphone</td>\n",
       "      <td>1</td>\n",
       "      <td>1149</td>\n",
       "      <td>2020-01-19 14:07:20.303505</td>\n",
       "      <td>Granada 135, Pueblo Libre, Lima</td>\n",
       "    </tr>\n",
       "    <tr>\n",
       "      <th>2</th>\n",
       "      <td>14357</td>\n",
       "      <td>Beats Studio3 Headphones</td>\n",
       "      <td>1</td>\n",
       "      <td>1499</td>\n",
       "      <td>2020-01-19 14:07:20.303505</td>\n",
       "      <td>Granada 135, Pueblo Libre, Lima</td>\n",
       "    </tr>\n",
       "    <tr>\n",
       "      <th>3</th>\n",
       "      <td>14358</td>\n",
       "      <td>JBL Go2 Speaker</td>\n",
       "      <td>1</td>\n",
       "      <td>129</td>\n",
       "      <td>2020-01-09 14:38:49.974557</td>\n",
       "      <td>Av. Javier Prado Oeste 770, Magdalena, Magdale...</td>\n",
       "    </tr>\n",
       "    <tr>\n",
       "      <th>4</th>\n",
       "      <td>14359</td>\n",
       "      <td>Motorola MotoG8 Smartphone</td>\n",
       "      <td>1</td>\n",
       "      <td>789</td>\n",
       "      <td>2020-01-17 16:03:08.456576</td>\n",
       "      <td>Nicolás de Piérola 140, San Miguel, Lima</td>\n",
       "    </tr>\n",
       "  </tbody>\n",
       "</table>\n",
       "</div>"
      ],
      "text/plain": [
       "  orderid                     product quantity price  \\\n",
       "0   14356       Palace Universal Case        1   129   \n",
       "1   14357        Huawei Y6 Smartphone        1  1149   \n",
       "2   14357    Beats Studio3 Headphones        1  1499   \n",
       "3   14358             JBL Go2 Speaker        1   129   \n",
       "4   14359  Motorola MotoG8 Smartphone        1   789   \n",
       "\n",
       "                   orderdate  \\\n",
       "0 2020-01-31 12:14:55.797447   \n",
       "1 2020-01-19 14:07:20.303505   \n",
       "2 2020-01-19 14:07:20.303505   \n",
       "3 2020-01-09 14:38:49.974557   \n",
       "4 2020-01-17 16:03:08.456576   \n",
       "\n",
       "                                             address  \n",
       "0              Alfredo Salazar 154, Miraflores, Lima  \n",
       "1                    Granada 135, Pueblo Libre, Lima  \n",
       "2                    Granada 135, Pueblo Libre, Lima  \n",
       "3  Av. Javier Prado Oeste 770, Magdalena, Magdale...  \n",
       "4           Nicolás de Piérola 140, San Miguel, Lima  "
      ]
     },
     "execution_count": 12,
     "metadata": {},
     "output_type": "execute_result"
    }
   ],
   "source": [
    "df.head()"
   ]
  },
  {
   "cell_type": "code",
   "execution_count": null,
   "metadata": {},
   "outputs": [],
   "source": []
  },
  {
   "cell_type": "code",
   "execution_count": 13,
   "metadata": {},
   "outputs": [],
   "source": [
    "from arcgis.geocoding import geocode\n",
    "AGENT = 'seipy2019-intermediate-gds'\n",
    "geolocator = Nominatim(user_agent=AGENT)"
   ]
  },
  {
   "cell_type": "code",
   "execution_count": 14,
   "metadata": {},
   "outputs": [
    {
     "name": "stdout",
     "output_type": "stream",
     "text": [
      "Avenida Cesar Vallejo, Lince, Lima, Lima Metropolitana, Lima, LIMA27, Perú\n"
     ]
    },
    {
     "data": {
      "text/plain": [
       "-12.0881541"
      ]
     },
     "execution_count": 14,
     "metadata": {},
     "output_type": "execute_result"
    }
   ],
   "source": [
    "# test one location\n",
    "location = geolocator.geocode('Av. Cesar Vallejo 223, Lince, Lince, Lima')\n",
    "print(location)\n",
    "location.raw\n",
    "location.latitude"
   ]
  },
  {
   "cell_type": "code",
   "execution_count": null,
   "metadata": {},
   "outputs": [],
   "source": []
  },
  {
   "cell_type": "code",
   "execution_count": 15,
   "metadata": {},
   "outputs": [],
   "source": [
    "# Obtain the latitude and longitude\n",
    "addresses = df['address'].drop_duplicates().to_list()\n",
    "df2 = pd.DataFrame({'address':addresses})"
   ]
  },
  {
   "cell_type": "code",
   "execution_count": 16,
   "metadata": {},
   "outputs": [],
   "source": [
    "df2['latitude'] = df2['address'].apply(lambda x: None if pd.isnull(geolocator.geocode(x)) else geolocator.geocode(x).latitude)"
   ]
  },
  {
   "cell_type": "code",
   "execution_count": 17,
   "metadata": {},
   "outputs": [],
   "source": [
    "df2['longitude'] = df2['address'].apply(lambda x: None if pd.isnull(geolocator.geocode(x)) else geolocator.geocode(x).longitude)\n"
   ]
  },
  {
   "cell_type": "code",
   "execution_count": 18,
   "metadata": {},
   "outputs": [],
   "source": [
    "df2.to_excel('../data/processed/locations.xlsx', index=False)"
   ]
  },
  {
   "cell_type": "code",
   "execution_count": 19,
   "metadata": {},
   "outputs": [],
   "source": [
    "locations_df = pd.read_excel('../data/processed/locations.xlsx')"
   ]
  },
  {
   "cell_type": "code",
   "execution_count": 20,
   "metadata": {},
   "outputs": [],
   "source": [
    "df = pd.merge(df, locations_df, on='address', how='left')"
   ]
  },
  {
   "cell_type": "code",
   "execution_count": 21,
   "metadata": {},
   "outputs": [],
   "source": [
    "# Remove null values in latitude ans longitude\n",
    "df = df[~df['latitude'].isnull()].reset_index(drop=True)"
   ]
  },
  {
   "cell_type": "code",
   "execution_count": null,
   "metadata": {},
   "outputs": [],
   "source": []
  },
  {
   "cell_type": "code",
   "execution_count": 22,
   "metadata": {},
   "outputs": [
    {
     "data": {
      "text/plain": [
       "<folium.map.Marker at 0x7ff3c1ed8eb0>"
      ]
     },
     "execution_count": 22,
     "metadata": {},
     "output_type": "execute_result"
    }
   ],
   "source": [
    "import folium\n",
    "from folium.plugins import HeatMap\n",
    "m = folium.Map(location=[-12.087819, -77.045773], zoom_start=15)\n",
    "tooltip = 'Click me'\n",
    "folium.Marker([-12.087819, -77.045773], popup='<i> 2 transaccions</i>').add_to(m)"
   ]
  },
  {
   "cell_type": "code",
   "execution_count": 23,
   "metadata": {},
   "outputs": [
    {
     "data": {
      "text/html": [
       "<div style=\"width:100%;\"><div style=\"position:relative;width:100%;height:0;padding-bottom:60%;\"><span style=\"color:#565656\">Make this Notebook Trusted to load map: File -> Trust Notebook</span><iframe src=\"about:blank\" style=\"position:absolute;width:100%;height:100%;left:0;top:0;border:none !important;\" data-html=%3C%21DOCTYPE%20html%3E%0A%3Chead%3E%20%20%20%20%0A%20%20%20%20%3Cmeta%20http-equiv%3D%22content-type%22%20content%3D%22text/html%3B%20charset%3DUTF-8%22%20/%3E%0A%20%20%20%20%0A%20%20%20%20%20%20%20%20%3Cscript%3E%0A%20%20%20%20%20%20%20%20%20%20%20%20L_NO_TOUCH%20%3D%20false%3B%0A%20%20%20%20%20%20%20%20%20%20%20%20L_DISABLE_3D%20%3D%20false%3B%0A%20%20%20%20%20%20%20%20%3C/script%3E%0A%20%20%20%20%0A%20%20%20%20%3Cstyle%3Ehtml%2C%20body%20%7Bwidth%3A%20100%25%3Bheight%3A%20100%25%3Bmargin%3A%200%3Bpadding%3A%200%3B%7D%3C/style%3E%0A%20%20%20%20%3Cstyle%3E%23map%20%7Bposition%3Aabsolute%3Btop%3A0%3Bbottom%3A0%3Bright%3A0%3Bleft%3A0%3B%7D%3C/style%3E%0A%20%20%20%20%3Cscript%20src%3D%22https%3A//cdn.jsdelivr.net/npm/leaflet%401.6.0/dist/leaflet.js%22%3E%3C/script%3E%0A%20%20%20%20%3Cscript%20src%3D%22https%3A//code.jquery.com/jquery-1.12.4.min.js%22%3E%3C/script%3E%0A%20%20%20%20%3Cscript%20src%3D%22https%3A//maxcdn.bootstrapcdn.com/bootstrap/3.2.0/js/bootstrap.min.js%22%3E%3C/script%3E%0A%20%20%20%20%3Cscript%20src%3D%22https%3A//cdnjs.cloudflare.com/ajax/libs/Leaflet.awesome-markers/2.0.2/leaflet.awesome-markers.js%22%3E%3C/script%3E%0A%20%20%20%20%3Clink%20rel%3D%22stylesheet%22%20href%3D%22https%3A//cdn.jsdelivr.net/npm/leaflet%401.6.0/dist/leaflet.css%22/%3E%0A%20%20%20%20%3Clink%20rel%3D%22stylesheet%22%20href%3D%22https%3A//maxcdn.bootstrapcdn.com/bootstrap/3.2.0/css/bootstrap.min.css%22/%3E%0A%20%20%20%20%3Clink%20rel%3D%22stylesheet%22%20href%3D%22https%3A//maxcdn.bootstrapcdn.com/bootstrap/3.2.0/css/bootstrap-theme.min.css%22/%3E%0A%20%20%20%20%3Clink%20rel%3D%22stylesheet%22%20href%3D%22https%3A//maxcdn.bootstrapcdn.com/font-awesome/4.6.3/css/font-awesome.min.css%22/%3E%0A%20%20%20%20%3Clink%20rel%3D%22stylesheet%22%20href%3D%22https%3A//cdnjs.cloudflare.com/ajax/libs/Leaflet.awesome-markers/2.0.2/leaflet.awesome-markers.css%22/%3E%0A%20%20%20%20%3Clink%20rel%3D%22stylesheet%22%20href%3D%22https%3A//cdn.jsdelivr.net/gh/python-visualization/folium/folium/templates/leaflet.awesome.rotate.min.css%22/%3E%0A%20%20%20%20%0A%20%20%20%20%20%20%20%20%20%20%20%20%3Cmeta%20name%3D%22viewport%22%20content%3D%22width%3Ddevice-width%2C%0A%20%20%20%20%20%20%20%20%20%20%20%20%20%20%20%20initial-scale%3D1.0%2C%20maximum-scale%3D1.0%2C%20user-scalable%3Dno%22%20/%3E%0A%20%20%20%20%20%20%20%20%20%20%20%20%3Cstyle%3E%0A%20%20%20%20%20%20%20%20%20%20%20%20%20%20%20%20%23map_2bd0f43a657f4c848d0ff933f9911c14%20%7B%0A%20%20%20%20%20%20%20%20%20%20%20%20%20%20%20%20%20%20%20%20position%3A%20relative%3B%0A%20%20%20%20%20%20%20%20%20%20%20%20%20%20%20%20%20%20%20%20width%3A%20100.0%25%3B%0A%20%20%20%20%20%20%20%20%20%20%20%20%20%20%20%20%20%20%20%20height%3A%20100.0%25%3B%0A%20%20%20%20%20%20%20%20%20%20%20%20%20%20%20%20%20%20%20%20left%3A%200.0%25%3B%0A%20%20%20%20%20%20%20%20%20%20%20%20%20%20%20%20%20%20%20%20top%3A%200.0%25%3B%0A%20%20%20%20%20%20%20%20%20%20%20%20%20%20%20%20%7D%0A%20%20%20%20%20%20%20%20%20%20%20%20%3C/style%3E%0A%20%20%20%20%20%20%20%20%0A%20%20%20%20%3Cscript%20src%3D%22https%3A//cdn.jsdelivr.net/gh/python-visualization/folium%40master/folium/templates/leaflet_heat.min.js%22%3E%3C/script%3E%0A%3C/head%3E%0A%3Cbody%3E%20%20%20%20%0A%20%20%20%20%0A%20%20%20%20%20%20%20%20%20%20%20%20%3Cdiv%20class%3D%22folium-map%22%20id%3D%22map_2bd0f43a657f4c848d0ff933f9911c14%22%20%3E%3C/div%3E%0A%20%20%20%20%20%20%20%20%0A%3C/body%3E%0A%3Cscript%3E%20%20%20%20%0A%20%20%20%20%0A%20%20%20%20%20%20%20%20%20%20%20%20var%20map_2bd0f43a657f4c848d0ff933f9911c14%20%3D%20L.map%28%0A%20%20%20%20%20%20%20%20%20%20%20%20%20%20%20%20%22map_2bd0f43a657f4c848d0ff933f9911c14%22%2C%0A%20%20%20%20%20%20%20%20%20%20%20%20%20%20%20%20%7B%0A%20%20%20%20%20%20%20%20%20%20%20%20%20%20%20%20%20%20%20%20center%3A%20%5B-12.087819%2C%20-77.045773%5D%2C%0A%20%20%20%20%20%20%20%20%20%20%20%20%20%20%20%20%20%20%20%20crs%3A%20L.CRS.EPSG3857%2C%0A%20%20%20%20%20%20%20%20%20%20%20%20%20%20%20%20%20%20%20%20zoom%3A%2015%2C%0A%20%20%20%20%20%20%20%20%20%20%20%20%20%20%20%20%20%20%20%20zoomControl%3A%20true%2C%0A%20%20%20%20%20%20%20%20%20%20%20%20%20%20%20%20%20%20%20%20preferCanvas%3A%20false%2C%0A%20%20%20%20%20%20%20%20%20%20%20%20%20%20%20%20%7D%0A%20%20%20%20%20%20%20%20%20%20%20%20%29%3B%0A%0A%20%20%20%20%20%20%20%20%20%20%20%20%0A%0A%20%20%20%20%20%20%20%20%0A%20%20%20%20%0A%20%20%20%20%20%20%20%20%20%20%20%20var%20tile_layer_5599536f94af4e75b70aac5c1c2e3a3c%20%3D%20L.tileLayer%28%0A%20%20%20%20%20%20%20%20%20%20%20%20%20%20%20%20%22https%3A//%7Bs%7D.tile.openstreetmap.org/%7Bz%7D/%7Bx%7D/%7By%7D.png%22%2C%0A%20%20%20%20%20%20%20%20%20%20%20%20%20%20%20%20%7B%22attribution%22%3A%20%22Data%20by%20%5Cu0026copy%3B%20%5Cu003ca%20href%3D%5C%22http%3A//openstreetmap.org%5C%22%5Cu003eOpenStreetMap%5Cu003c/a%5Cu003e%2C%20under%20%5Cu003ca%20href%3D%5C%22http%3A//www.openstreetmap.org/copyright%5C%22%5Cu003eODbL%5Cu003c/a%5Cu003e.%22%2C%20%22detectRetina%22%3A%20false%2C%20%22maxNativeZoom%22%3A%2018%2C%20%22maxZoom%22%3A%2018%2C%20%22minZoom%22%3A%200%2C%20%22noWrap%22%3A%20false%2C%20%22opacity%22%3A%201%2C%20%22subdomains%22%3A%20%22abc%22%2C%20%22tms%22%3A%20false%7D%0A%20%20%20%20%20%20%20%20%20%20%20%20%29.addTo%28map_2bd0f43a657f4c848d0ff933f9911c14%29%3B%0A%20%20%20%20%20%20%20%20%0A%20%20%20%20%0A%20%20%20%20%20%20%20%20%20%20%20%20var%20marker_dbe872853c8b49518c39d2e79a73751e%20%3D%20L.marker%28%0A%20%20%20%20%20%20%20%20%20%20%20%20%20%20%20%20%5B-12.087819%2C%20-77.045773%5D%2C%0A%20%20%20%20%20%20%20%20%20%20%20%20%20%20%20%20%7B%7D%0A%20%20%20%20%20%20%20%20%20%20%20%20%29.addTo%28map_2bd0f43a657f4c848d0ff933f9911c14%29%3B%0A%20%20%20%20%20%20%20%20%0A%20%20%20%20%0A%20%20%20%20%20%20%20%20var%20popup_e3ae7777bff2447b8a2cd2115c355b42%20%3D%20L.popup%28%7B%22maxWidth%22%3A%20%22100%25%22%7D%29%3B%0A%0A%20%20%20%20%20%20%20%20%0A%20%20%20%20%20%20%20%20%20%20%20%20var%20html_25e4a143838e412c8ba6139998be93c8%20%3D%20%24%28%60%3Cdiv%20id%3D%22html_25e4a143838e412c8ba6139998be93c8%22%20style%3D%22width%3A%20100.0%25%3B%20height%3A%20100.0%25%3B%22%3E%3Ci%3E%202%20transaccions%3C/i%3E%3C/div%3E%60%29%5B0%5D%3B%0A%20%20%20%20%20%20%20%20%20%20%20%20popup_e3ae7777bff2447b8a2cd2115c355b42.setContent%28html_25e4a143838e412c8ba6139998be93c8%29%3B%0A%20%20%20%20%20%20%20%20%0A%0A%20%20%20%20%20%20%20%20marker_dbe872853c8b49518c39d2e79a73751e.bindPopup%28popup_e3ae7777bff2447b8a2cd2115c355b42%29%0A%20%20%20%20%20%20%20%20%3B%0A%0A%20%20%20%20%20%20%20%20%0A%20%20%20%20%0A%20%20%20%20%0A%20%20%20%20%20%20%20%20%20%20%20%20var%20heat_map_ba1340bec51a4d2c94a115156f0203e6%20%3D%20L.heatLayer%28%0A%20%20%20%20%20%20%20%20%20%20%20%20%20%20%20%20%5B%5B-12.0689194%2C%20-77.0649858%5D%2C%20%5B-12.0689194%2C%20-77.0649858%5D%2C%20%5B-12.0898049%2C%20-77.0659083%5D%2C%20%5B-12.0845417%2C%20-77.0923675%5D%2C%20%5B-12.0327436%2C%20-77.0494897%5D%2C%20%5B-12.0643122%2C%20-77.0363241%5D%2C%20%5B-11.93095335%2C%20-77.05228955000001%5D%2C%20%5B-12.0898049%2C%20-77.0659083%5D%2C%20%5B-12.0750695%2C%20-77.0397247%5D%2C%20%5B-12.0750695%2C%20-77.0397247%5D%2C%20%5B-12.0327436%2C%20-77.0494897%5D%2C%20%5B-11.93095335%2C%20-77.05228955000001%5D%2C%20%5B-12.0881541%2C%20-77.0480633%5D%2C%20%5B-12.0643122%2C%20-77.0363241%5D%2C%20%5B-12.0898049%2C%20-77.0659083%5D%2C%20%5B-12.11143455%2C%20-77.01459418609272%5D%2C%20%5B-12.0689194%2C%20-77.0649858%5D%2C%20%5B-12.0689194%2C%20-77.0649858%5D%2C%20%5B-12.0898049%2C%20-77.0659083%5D%2C%20%5B-12.0898049%2C%20-77.0659083%5D%2C%20%5B-12.0643122%2C%20-77.0363241%5D%2C%20%5B-12.0881541%2C%20-77.0480633%5D%2C%20%5B-12.0881541%2C%20-77.0480633%5D%2C%20%5B-12.0845417%2C%20-77.0923675%5D%2C%20%5B-12.0643122%2C%20-77.0363241%5D%2C%20%5B-12.0750695%2C%20-77.0397247%5D%2C%20%5B-12.0845417%2C%20-77.0923675%5D%2C%20%5B-12.0689194%2C%20-77.0649858%5D%2C%20%5B-12.0689194%2C%20-77.0649858%5D%2C%20%5B-12.0643122%2C%20-77.0363241%5D%2C%20%5B-12.0898049%2C%20-77.0659083%5D%2C%20%5B-12.0689194%2C%20-77.0649858%5D%2C%20%5B-12.0327436%2C%20-77.0494897%5D%2C%20%5B-12.0898049%2C%20-77.0659083%5D%2C%20%5B-12.0881541%2C%20-77.0480633%5D%2C%20%5B-12.0881541%2C%20-77.0480633%5D%2C%20%5B-12.0898049%2C%20-77.0659083%5D%2C%20%5B-12.0779479%2C%20-77.0562141%5D%2C%20%5B-12.1628164%2C%20-77.0232872%5D%2C%20%5B-12.0750695%2C%20-77.0397247%5D%2C%20%5B-12.0643122%2C%20-77.0363241%5D%2C%20%5B-12.0643122%2C%20-77.0363241%5D%2C%20%5B-12.0898049%2C%20-77.0659083%5D%2C%20%5B-12.0327436%2C%20-77.0494897%5D%2C%20%5B-12.0779479%2C%20-77.0562141%5D%2C%20%5B-12.0779479%2C%20-77.0562141%5D%2C%20%5B-12.0881541%2C%20-77.0480633%5D%2C%20%5B-12.0881541%2C%20-77.0480633%5D%2C%20%5B-11.93095335%2C%20-77.05228955000001%5D%2C%20%5B-11.93095335%2C%20-77.05228955000001%5D%2C%20%5B-12.0898049%2C%20-77.0659083%5D%2C%20%5B-11.93095335%2C%20-77.05228955000001%5D%2C%20%5B-11.93095335%2C%20-77.05228955000001%5D%2C%20%5B-12.0750695%2C%20-77.0397247%5D%2C%20%5B-12.0881541%2C%20-77.0480633%5D%2C%20%5B-12.0689194%2C%20-77.0649858%5D%2C%20%5B-12.0689194%2C%20-77.0649858%5D%2C%20%5B-12.0689194%2C%20-77.0649858%5D%2C%20%5B-12.0643122%2C%20-77.0363241%5D%2C%20%5B-12.0881541%2C%20-77.0480633%5D%2C%20%5B-12.0689194%2C%20-77.0649858%5D%2C%20%5B-12.1628164%2C%20-77.0232872%5D%2C%20%5B-12.0689194%2C%20-77.0649858%5D%2C%20%5B-12.0327436%2C%20-77.0494897%5D%2C%20%5B-12.1628164%2C%20-77.0232872%5D%2C%20%5B-12.0327436%2C%20-77.0494897%5D%2C%20%5B-12.0689194%2C%20-77.0649858%5D%2C%20%5B-12.0845417%2C%20-77.0923675%5D%2C%20%5B-12.0898049%2C%20-77.0659083%5D%2C%20%5B-12.0643122%2C%20-77.0363241%5D%2C%20%5B-12.0689194%2C%20-77.0649858%5D%2C%20%5B-12.0643122%2C%20-77.0363241%5D%2C%20%5B-12.0643122%2C%20-77.0363241%5D%2C%20%5B-12.0898049%2C%20-77.0659083%5D%2C%20%5B-12.11143455%2C%20-77.01459418609272%5D%2C%20%5B-12.0689194%2C%20-77.0649858%5D%2C%20%5B-12.0643122%2C%20-77.0363241%5D%2C%20%5B-12.0643122%2C%20-77.0363241%5D%2C%20%5B-12.1628164%2C%20-77.0232872%5D%2C%20%5B-12.0689194%2C%20-77.0649858%5D%2C%20%5B-12.0689194%2C%20-77.0649858%5D%2C%20%5B-12.0643122%2C%20-77.0363241%5D%2C%20%5B-12.0750695%2C%20-77.0397247%5D%2C%20%5B-12.0898049%2C%20-77.0659083%5D%5D%2C%0A%20%20%20%20%20%20%20%20%20%20%20%20%20%20%20%20%7B%22blur%22%3A%2015%2C%20%22maxZoom%22%3A%2018%2C%20%22minOpacity%22%3A%200.5%2C%20%22radius%22%3A%2025%7D%0A%20%20%20%20%20%20%20%20%20%20%20%20%29.addTo%28map_2bd0f43a657f4c848d0ff933f9911c14%29%3B%0A%20%20%20%20%20%20%20%20%0A%3C/script%3E onload=\"this.contentDocument.open();this.contentDocument.write(    decodeURIComponent(this.getAttribute('data-html')));this.contentDocument.close();\" allowfullscreen webkitallowfullscreen mozallowfullscreen></iframe></div></div>"
      ],
      "text/plain": [
       "<folium.folium.Map at 0x7ff3c1a0bdc0>"
      ]
     },
     "execution_count": 23,
     "metadata": {},
     "output_type": "execute_result"
    }
   ],
   "source": [
    "heat_data = [[row['latitude'], row['longitude']] for index, row in df.iterrows()]\n",
    "HeatMap(heat_data).add_to(m)\n",
    "m"
   ]
  },
  {
   "cell_type": "code",
   "execution_count": 24,
   "metadata": {},
   "outputs": [
    {
     "data": {
      "text/html": [
       "<div>\n",
       "<style scoped>\n",
       "    .dataframe tbody tr th:only-of-type {\n",
       "        vertical-align: middle;\n",
       "    }\n",
       "\n",
       "    .dataframe tbody tr th {\n",
       "        vertical-align: top;\n",
       "    }\n",
       "\n",
       "    .dataframe thead th {\n",
       "        text-align: right;\n",
       "    }\n",
       "</style>\n",
       "<table border=\"1\" class=\"dataframe\">\n",
       "  <thead>\n",
       "    <tr style=\"text-align: right;\">\n",
       "      <th></th>\n",
       "      <th>address</th>\n",
       "      <th>latitude</th>\n",
       "      <th>longitude</th>\n",
       "    </tr>\n",
       "  </thead>\n",
       "  <tbody>\n",
       "    <tr>\n",
       "      <th>0</th>\n",
       "      <td>Alfredo Salazar 154, Miraflores, Lima</td>\n",
       "      <td>NaN</td>\n",
       "      <td>NaN</td>\n",
       "    </tr>\n",
       "    <tr>\n",
       "      <th>1</th>\n",
       "      <td>Granada 135, Pueblo Libre, Lima</td>\n",
       "      <td>-12.068919</td>\n",
       "      <td>-77.064986</td>\n",
       "    </tr>\n",
       "    <tr>\n",
       "      <th>2</th>\n",
       "      <td>Av. Javier Prado Oeste 770, Magdalena, Magdale...</td>\n",
       "      <td>-12.089805</td>\n",
       "      <td>-77.065908</td>\n",
       "    </tr>\n",
       "    <tr>\n",
       "      <th>3</th>\n",
       "      <td>Nicolás de Piérola 140, San Miguel, Lima</td>\n",
       "      <td>-12.084542</td>\n",
       "      <td>-77.092367</td>\n",
       "    </tr>\n",
       "    <tr>\n",
       "      <th>4</th>\n",
       "      <td>Av. 10 de Junio 1020, San Martín de Porres, Lima</td>\n",
       "      <td>-12.032744</td>\n",
       "      <td>-77.049490</td>\n",
       "    </tr>\n",
       "    <tr>\n",
       "      <th>5</th>\n",
       "      <td>Av. Petit Thouars 1291, Santa Beatriz, Lima</td>\n",
       "      <td>-12.064312</td>\n",
       "      <td>-77.036324</td>\n",
       "    </tr>\n",
       "    <tr>\n",
       "      <th>6</th>\n",
       "      <td>Micaela Bastidas 1100, El Retablo, Comas</td>\n",
       "      <td>-11.930953</td>\n",
       "      <td>-77.052290</td>\n",
       "    </tr>\n",
       "    <tr>\n",
       "      <th>7</th>\n",
       "      <td>Av. Cuba 1145, Jesús María, Jesús María, Lima</td>\n",
       "      <td>-12.075069</td>\n",
       "      <td>-77.039725</td>\n",
       "    </tr>\n",
       "    <tr>\n",
       "      <th>8</th>\n",
       "      <td>Av. Cesar Vallejo 223, Lince, Lince, Lima</td>\n",
       "      <td>-12.088154</td>\n",
       "      <td>-77.048063</td>\n",
       "    </tr>\n",
       "    <tr>\n",
       "      <th>9</th>\n",
       "      <td>Av. Angamos Este 1551, Surquillo, Lima</td>\n",
       "      <td>-12.111435</td>\n",
       "      <td>-77.014594</td>\n",
       "    </tr>\n",
       "    <tr>\n",
       "      <th>10</th>\n",
       "      <td>los cisnes 371, Limatambo, San Isidro</td>\n",
       "      <td>NaN</td>\n",
       "      <td>NaN</td>\n",
       "    </tr>\n",
       "    <tr>\n",
       "      <th>11</th>\n",
       "      <td>Calle Montemar 167, Santiago de Surco, Santiag...</td>\n",
       "      <td>NaN</td>\n",
       "      <td>NaN</td>\n",
       "    </tr>\n",
       "    <tr>\n",
       "      <th>12</th>\n",
       "      <td>Av. Brasil 1670 , Pueblo Libre, Lima</td>\n",
       "      <td>-12.077948</td>\n",
       "      <td>-77.056214</td>\n",
       "    </tr>\n",
       "    <tr>\n",
       "      <th>13</th>\n",
       "      <td>Av. Chorrillos 640, Chorrillos, Lima</td>\n",
       "      <td>-12.162816</td>\n",
       "      <td>-77.023287</td>\n",
       "    </tr>\n",
       "  </tbody>\n",
       "</table>\n",
       "</div>"
      ],
      "text/plain": [
       "                                              address   latitude  longitude\n",
       "0               Alfredo Salazar 154, Miraflores, Lima        NaN        NaN\n",
       "1                     Granada 135, Pueblo Libre, Lima -12.068919 -77.064986\n",
       "2   Av. Javier Prado Oeste 770, Magdalena, Magdale... -12.089805 -77.065908\n",
       "3            Nicolás de Piérola 140, San Miguel, Lima -12.084542 -77.092367\n",
       "4    Av. 10 de Junio 1020, San Martín de Porres, Lima -12.032744 -77.049490\n",
       "5         Av. Petit Thouars 1291, Santa Beatriz, Lima -12.064312 -77.036324\n",
       "6            Micaela Bastidas 1100, El Retablo, Comas -11.930953 -77.052290\n",
       "7       Av. Cuba 1145, Jesús María, Jesús María, Lima -12.075069 -77.039725\n",
       "8           Av. Cesar Vallejo 223, Lince, Lince, Lima -12.088154 -77.048063\n",
       "9              Av. Angamos Este 1551, Surquillo, Lima -12.111435 -77.014594\n",
       "10              los cisnes 371, Limatambo, San Isidro        NaN        NaN\n",
       "11  Calle Montemar 167, Santiago de Surco, Santiag...        NaN        NaN\n",
       "12               Av. Brasil 1670 , Pueblo Libre, Lima -12.077948 -77.056214\n",
       "13               Av. Chorrillos 640, Chorrillos, Lima -12.162816 -77.023287"
      ]
     },
     "execution_count": 24,
     "metadata": {},
     "output_type": "execute_result"
    }
   ],
   "source": [
    "locations_df"
   ]
  },
  {
   "cell_type": "code",
   "execution_count": null,
   "metadata": {},
   "outputs": [],
   "source": [
    "## Venta de Productos farmaceuticos online - Colombia\n",
    "# Paciente crónicos : hipertención\n",
    "# objetivo : la farmaceutica tiene como objetivo que siga luego de los 6 meses \n",
    "# seguros : predecir cuando el paciente va a dejar de consumir y evitar ir a la clinica.\n",
    "# cruce en la prescripción de productos y evitar situaciones criticas\n",
    "# clinicas necesitan clientes mas leales : \n",
    "# edad, peso, sexo, datos de su actividad fisica, nombre, beneficiario\n",
    "# alergias\n",
    "# tiroides, hipo, enfermedades \n",
    "# datos del pedido, vademecum y precio, datos del paciente: dirección, médico (condición crónica)\n",
    "# https://www.datos.gov.co/en/widgets/p783-486i\n",
    "\n",
    "# tricket promedio,"
   ]
  },
  {
   "cell_type": "code",
   "execution_count": null,
   "metadata": {},
   "outputs": [],
   "source": []
  }
 ],
 "metadata": {
  "kernelspec": {
   "display_name": "Python 3",
   "language": "python",
   "name": "python3"
  },
  "language_info": {
   "codemirror_mode": {
    "name": "ipython",
    "version": 3
   },
   "file_extension": ".py",
   "mimetype": "text/x-python",
   "name": "python",
   "nbconvert_exporter": "python",
   "pygments_lexer": "ipython3",
   "version": "3.8.5"
  }
 },
 "nbformat": 4,
 "nbformat_minor": 4
}
