{
 "cells": [
  {
   "cell_type": "markdown",
   "metadata": {},
   "source": [
    "# Multi-Class Text Classification with scikit learn\n",
    "by Carlos León"
   ]
  },
  {
   "cell_type": "markdown",
   "metadata": {},
   "source": [
    "## Introduction"
   ]
  },
  {
   "cell_type": "markdown",
   "metadata": {},
   "source": [
    "\n",
    "This notebook is an attempt to solve a prediction problem with 'Product' as the label and 'Consumer complaint narrative' as input. To give a quick solution and respectable accuracy, i only use two features and dropped the others.\n",
    "\n",
    "We will make fast steps of Data Science like data collection, EDA, data cleaning, data preprocessing, data engineering and machine learning to solve this multi-classification problem. \n",
    "\n",
    "This dataset is available at https://www.consumerfinance.gov/data-research/consumer-complaints/#download-the-data for consumer-complaint database for the Banking sector. "
   ]
  },
  {
   "cell_type": "markdown",
   "metadata": {},
   "source": [
    "### Structure of the dataset\n",
    "<img src=\"images/dataset_variables.png\" >"
   ]
  },
  {
   "cell_type": "code",
   "execution_count": 1,
   "metadata": {},
   "outputs": [],
   "source": [
    "import numpy as np\n",
    "import pandas as pd\n",
    "import datetime\n",
    "import seaborn as sns\n",
    "import matplotlib.pyplot as plt\n",
    "\n",
    "#from ast import literal_eval\n",
    "%matplotlib inline"
   ]
  },
  {
   "cell_type": "markdown",
   "metadata": {},
   "source": [
    "## Data Collection"
   ]
  },
  {
   "cell_type": "code",
   "execution_count": 4,
   "metadata": {},
   "outputs": [
    {
     "data": {
      "text/html": [
       "<div>\n",
       "<style scoped>\n",
       "    .dataframe tbody tr th:only-of-type {\n",
       "        vertical-align: middle;\n",
       "    }\n",
       "\n",
       "    .dataframe tbody tr th {\n",
       "        vertical-align: top;\n",
       "    }\n",
       "\n",
       "    .dataframe thead th {\n",
       "        text-align: right;\n",
       "    }\n",
       "</style>\n",
       "<table border=\"1\" class=\"dataframe\">\n",
       "  <thead>\n",
       "    <tr style=\"text-align: right;\">\n",
       "      <th></th>\n",
       "      <th>Date received</th>\n",
       "      <th>Product</th>\n",
       "      <th>Sub-product</th>\n",
       "      <th>Issue</th>\n",
       "      <th>Sub-issue</th>\n",
       "      <th>Consumer complaint narrative</th>\n",
       "      <th>Company public response</th>\n",
       "      <th>Company</th>\n",
       "      <th>State</th>\n",
       "      <th>ZIP code</th>\n",
       "      <th>Tags</th>\n",
       "      <th>Consumer consent provided?</th>\n",
       "      <th>Submitted via</th>\n",
       "      <th>Date sent to company</th>\n",
       "      <th>Company response to consumer</th>\n",
       "      <th>Timely response?</th>\n",
       "      <th>Consumer disputed?</th>\n",
       "      <th>Complaint ID</th>\n",
       "    </tr>\n",
       "  </thead>\n",
       "  <tbody>\n",
       "    <tr>\n",
       "      <th>0</th>\n",
       "      <td>08/09/2015</td>\n",
       "      <td>Credit reporting</td>\n",
       "      <td>NaN</td>\n",
       "      <td>Incorrect information on credit report</td>\n",
       "      <td>Information is not mine</td>\n",
       "      <td>NaN</td>\n",
       "      <td>Company chooses not to provide a public response</td>\n",
       "      <td>Experian Information Solutions Inc.</td>\n",
       "      <td>NJ</td>\n",
       "      <td>08872</td>\n",
       "      <td>NaN</td>\n",
       "      <td>Consent not provided</td>\n",
       "      <td>Web</td>\n",
       "      <td>08/09/2015</td>\n",
       "      <td>Closed with non-monetary relief</td>\n",
       "      <td>Yes</td>\n",
       "      <td>No</td>\n",
       "      <td>1509954</td>\n",
       "    </tr>\n",
       "    <tr>\n",
       "      <th>1</th>\n",
       "      <td>12/23/2019</td>\n",
       "      <td>Student loan</td>\n",
       "      <td>Federal student loan servicing</td>\n",
       "      <td>Dealing with your lender or servicer</td>\n",
       "      <td>Trouble with how payments are being handled</td>\n",
       "      <td>NaN</td>\n",
       "      <td>NaN</td>\n",
       "      <td>AES/PHEAA</td>\n",
       "      <td>MA</td>\n",
       "      <td>019XX</td>\n",
       "      <td>NaN</td>\n",
       "      <td>NaN</td>\n",
       "      <td>Web</td>\n",
       "      <td>12/23/2019</td>\n",
       "      <td>Closed with explanation</td>\n",
       "      <td>Yes</td>\n",
       "      <td>NaN</td>\n",
       "      <td>3475943</td>\n",
       "    </tr>\n",
       "    <tr>\n",
       "      <th>2</th>\n",
       "      <td>01/29/2019</td>\n",
       "      <td>Credit reporting, credit repair services, or o...</td>\n",
       "      <td>Credit reporting</td>\n",
       "      <td>Problem with a credit reporting company's inve...</td>\n",
       "      <td>Was not notified of investigation status or re...</td>\n",
       "      <td>NaN</td>\n",
       "      <td>NaN</td>\n",
       "      <td>EQUIFAX, INC.</td>\n",
       "      <td>NY</td>\n",
       "      <td>10801</td>\n",
       "      <td>NaN</td>\n",
       "      <td>Consent not provided</td>\n",
       "      <td>Web</td>\n",
       "      <td>01/30/2019</td>\n",
       "      <td>Closed with non-monetary relief</td>\n",
       "      <td>Yes</td>\n",
       "      <td>NaN</td>\n",
       "      <td>3136759</td>\n",
       "    </tr>\n",
       "    <tr>\n",
       "      <th>3</th>\n",
       "      <td>08/19/2015</td>\n",
       "      <td>Mortgage</td>\n",
       "      <td>Conventional adjustable mortgage (ARM)</td>\n",
       "      <td>Loan servicing, payments, escrow account</td>\n",
       "      <td>NaN</td>\n",
       "      <td>NaN</td>\n",
       "      <td>Company chooses not to provide a public response</td>\n",
       "      <td>WELLS FARGO &amp; COMPANY</td>\n",
       "      <td>CA</td>\n",
       "      <td>94526</td>\n",
       "      <td>NaN</td>\n",
       "      <td>Consent not provided</td>\n",
       "      <td>Web</td>\n",
       "      <td>08/19/2015</td>\n",
       "      <td>Closed with explanation</td>\n",
       "      <td>Yes</td>\n",
       "      <td>No</td>\n",
       "      <td>1527601</td>\n",
       "    </tr>\n",
       "    <tr>\n",
       "      <th>4</th>\n",
       "      <td>03/04/2016</td>\n",
       "      <td>Credit card</td>\n",
       "      <td>NaN</td>\n",
       "      <td>Billing disputes</td>\n",
       "      <td>NaN</td>\n",
       "      <td>I am dissatisfied with the current outcome of ...</td>\n",
       "      <td>NaN</td>\n",
       "      <td>DISCOVER BANK</td>\n",
       "      <td>NV</td>\n",
       "      <td>891XX</td>\n",
       "      <td>NaN</td>\n",
       "      <td>Consent provided</td>\n",
       "      <td>Web</td>\n",
       "      <td>03/04/2016</td>\n",
       "      <td>Closed with explanation</td>\n",
       "      <td>Yes</td>\n",
       "      <td>Yes</td>\n",
       "      <td>1816726</td>\n",
       "    </tr>\n",
       "  </tbody>\n",
       "</table>\n",
       "</div>"
      ],
      "text/plain": [
       "  Date received                                            Product  \\\n",
       "0    08/09/2015                                   Credit reporting   \n",
       "1    12/23/2019                                       Student loan   \n",
       "2    01/29/2019  Credit reporting, credit repair services, or o...   \n",
       "3    08/19/2015                                           Mortgage   \n",
       "4    03/04/2016                                        Credit card   \n",
       "\n",
       "                              Sub-product  \\\n",
       "0                                     NaN   \n",
       "1          Federal student loan servicing   \n",
       "2                        Credit reporting   \n",
       "3  Conventional adjustable mortgage (ARM)   \n",
       "4                                     NaN   \n",
       "\n",
       "                                               Issue  \\\n",
       "0             Incorrect information on credit report   \n",
       "1               Dealing with your lender or servicer   \n",
       "2  Problem with a credit reporting company's inve...   \n",
       "3           Loan servicing, payments, escrow account   \n",
       "4                                   Billing disputes   \n",
       "\n",
       "                                           Sub-issue  \\\n",
       "0                            Information is not mine   \n",
       "1        Trouble with how payments are being handled   \n",
       "2  Was not notified of investigation status or re...   \n",
       "3                                                NaN   \n",
       "4                                                NaN   \n",
       "\n",
       "                        Consumer complaint narrative  \\\n",
       "0                                                NaN   \n",
       "1                                                NaN   \n",
       "2                                                NaN   \n",
       "3                                                NaN   \n",
       "4  I am dissatisfied with the current outcome of ...   \n",
       "\n",
       "                            Company public response  \\\n",
       "0  Company chooses not to provide a public response   \n",
       "1                                               NaN   \n",
       "2                                               NaN   \n",
       "3  Company chooses not to provide a public response   \n",
       "4                                               NaN   \n",
       "\n",
       "                               Company State ZIP code Tags  \\\n",
       "0  Experian Information Solutions Inc.    NJ    08872  NaN   \n",
       "1                            AES/PHEAA    MA    019XX  NaN   \n",
       "2                        EQUIFAX, INC.    NY    10801  NaN   \n",
       "3                WELLS FARGO & COMPANY    CA    94526  NaN   \n",
       "4                        DISCOVER BANK    NV    891XX  NaN   \n",
       "\n",
       "  Consumer consent provided? Submitted via Date sent to company  \\\n",
       "0       Consent not provided           Web           08/09/2015   \n",
       "1                        NaN           Web           12/23/2019   \n",
       "2       Consent not provided           Web           01/30/2019   \n",
       "3       Consent not provided           Web           08/19/2015   \n",
       "4           Consent provided           Web           03/04/2016   \n",
       "\n",
       "      Company response to consumer Timely response? Consumer disputed?  \\\n",
       "0  Closed with non-monetary relief              Yes                 No   \n",
       "1          Closed with explanation              Yes                NaN   \n",
       "2  Closed with non-monetary relief              Yes                NaN   \n",
       "3          Closed with explanation              Yes                 No   \n",
       "4          Closed with explanation              Yes                Yes   \n",
       "\n",
       "   Complaint ID  \n",
       "0       1509954  \n",
       "1       3475943  \n",
       "2       3136759  \n",
       "3       1527601  \n",
       "4       1816726  "
      ]
     },
     "execution_count": 4,
     "metadata": {},
     "output_type": "execute_result"
    }
   ],
   "source": [
    "# Importing the dataset\n",
    "file = 'banking_consumer_complaints.csv'\n",
    "folder = '../data/raw/'\n",
    "complaints = pd.read_csv(folder+file)\n",
    "\n",
    "# How our data looks like\n",
    "complaints.head()"
   ]
  },
  {
   "cell_type": "markdown",
   "metadata": {},
   "source": [
    "## Data Cleaning"
   ]
  },
  {
   "cell_type": "code",
   "execution_count": 5,
   "metadata": {},
   "outputs": [
    {
     "name": "stdout",
     "output_type": "stream",
     "text": [
      "Null values per column\n",
      "----------------------\n"
     ]
    },
    {
     "data": {
      "text/plain": [
       "Date received                         0\n",
       "Product                               0\n",
       "Sub-product                      235165\n",
       "Issue                                 0\n",
       "Sub-issue                        553940\n",
       "Consumer complaint narrative     987113\n",
       "Company public response          919710\n",
       "Company                               0\n",
       "State                             24297\n",
       "ZIP code                         136188\n",
       "Tags                            1264295\n",
       "Consumer consent provided?       609000\n",
       "Submitted via                         0\n",
       "Date sent to company                  0\n",
       "Company response to consumer          1\n",
       "Timely response?                      0\n",
       "Consumer disputed?               695361\n",
       "Complaint ID                          0\n",
       "dtype: int64"
      ]
     },
     "execution_count": 5,
     "metadata": {},
     "output_type": "execute_result"
    }
   ],
   "source": [
    "# Number of nan values per column\n",
    "print('Null values per column')\n",
    "print('----------------------')\n",
    "complaints.isna().sum()"
   ]
  },
  {
   "cell_type": "code",
   "execution_count": 6,
   "metadata": {},
   "outputs": [
    {
     "name": "stdout",
     "output_type": "stream",
     "text": [
      "Rows before dropping null values: 1463841\n",
      "Rows after dropping null values: 476728\n"
     ]
    }
   ],
   "source": [
    "# Remove null values\n",
    "df = complaints.copy()\n",
    "df.dropna(inplace=True, subset=['Consumer complaint narrative'])\n",
    "print('Rows before dropping null values:',len(complaints))\n",
    "print('Rows after dropping null values:',len(df))\n",
    "\n",
    "# Removing columns with high null values\n",
    "nan_cols = ['Company public response','Zip code','Tags','Consumer consent provided?']"
   ]
  },
  {
   "cell_type": "code",
   "execution_count": 7,
   "metadata": {},
   "outputs": [],
   "source": [
    "# Convert object column to datetime column\n",
    "df['date_complaint'] = pd.to_datetime(df['Date received'])\n",
    "df['year_complaint'] = df['date_complaint'].map(lambda x : x.year)\n",
    "df['month_complaint'] = df['date_complaint'].map(lambda x : x.month)\n",
    "\n",
    "# Correct some data. Force US state abbreviation\n",
    "df.loc[df['State']=='UNITED STATES MINOR OUTLYING ISLANDS','State'] = 'UM'"
   ]
  },
  {
   "cell_type": "code",
   "execution_count": 8,
   "metadata": {},
   "outputs": [],
   "source": [
    "# Reeplacing long product term by a short one\n",
    "str_filter = \"Credit reporting, credit repair services, or other personal consumer reports\"\n",
    "df.loc[df['Product'] == str_filter,'Product'] = 'Other Personal Consumer Reports'"
   ]
  },
  {
   "cell_type": "markdown",
   "metadata": {},
   "source": [
    "## EDA"
   ]
  },
  {
   "cell_type": "code",
   "execution_count": 9,
   "metadata": {},
   "outputs": [
    {
     "data": {
      "text/plain": [
       "Text(0.5, 1.0, 'Complaints by Year')"
      ]
     },
     "execution_count": 9,
     "metadata": {},
     "output_type": "execute_result"
    },
    {
     "data": {
      "image/png": "[encoded data removed]",
      "text/plain": [
       "<Figure size 725.625x216 with 1 Axes>"
      ]
     },
     "metadata": {
      "needs_background": "light"
     },
     "output_type": "display_data"
    }
   ],
   "source": [
    "# Complaints by year \n",
    "sns.set_palette('hls')\n",
    "sns.catplot(x='year_complaint', hue='Submitted via', data=df, kind='count', aspect=3, \n",
    "                    height=3)\n",
    "plt.title('Complaints by Year')"
   ]
  },
  {
   "cell_type": "code",
   "execution_count": 10,
   "metadata": {},
   "outputs": [
    {
     "data": {
      "text/plain": [
       "Text(0.5, 1.0, 'Complaints by Product')"
      ]
     },
     "execution_count": 10,
     "metadata": {},
     "output_type": "execute_result"
    },
    {
     "data": {
      "text/plain": [
       "<Figure size 1440x720 with 0 Axes>"
      ]
     },
     "metadata": {},
     "output_type": "display_data"
    },
    {
     "data": {
      "image/png": "[encoded data removed]",
      "text/plain": [
       "<Figure size 742.75x216 with 1 Axes>"
      ]
     },
     "metadata": {
      "needs_background": "light"
     },
     "output_type": "display_data"
    }
   ],
   "source": [
    "# Complaints by Product\n",
    "\n",
    "plt.figure(figsize=(20,10))\n",
    "sns.catplot(x='Product', hue='Timely response?', data=df, kind='count', aspect=3, \n",
    "            height=3, order=df['Product'].value_counts().index)\n",
    "plt.xticks(rotation=90)\n",
    "plt.title('Complaints by Product')"
   ]
  },
  {
   "cell_type": "code",
   "execution_count": 11,
   "metadata": {},
   "outputs": [
    {
     "data": {
      "text/plain": [
       "Text(0.5, 1.0, 'Complaints by State in USA (First thirty)')"
      ]
     },
     "execution_count": 11,
     "metadata": {},
     "output_type": "execute_result"
    },
    {
     "data": {
      "text/plain": [
       "<Figure size 864x576 with 0 Axes>"
      ]
     },
     "metadata": {},
     "output_type": "display_data"
    },
    {
     "data": {
      "image/png": "[encoded data removed]",
      "text/plain": [
       "<Figure size 360x360 with 1 Axes>"
      ]
     },
     "metadata": {
      "needs_background": "light"
     },
     "output_type": "display_data"
    }
   ],
   "source": [
    "# Complaints by State, the first thirty\n",
    "\n",
    "plt.figure(figsize=(12,8))\n",
    "sns.catplot(y='State', data=df, kind='count', order=df['State'].value_counts()[:30].index)\n",
    "plt.title('Complaints by State in USA (First thirty)')"
   ]
  },
  {
   "cell_type": "markdown",
   "metadata": {},
   "source": [
    "## Data Preprocessing\n",
    "\n"
   ]
  },
  {
   "cell_type": "markdown",
   "metadata": {},
   "source": [
    "### Doing some Text Representation\n",
    "Text documents are noisy so we need some \"word\" cleaning "
   ]
  },
  {
   "cell_type": "code",
   "execution_count": 12,
   "metadata": {},
   "outputs": [],
   "source": [
    "# Optional: The clean dataframe has 470k rows, we select 100k rows randomly to make  \n",
    "# calculations faster\n",
    "k=20000\n",
    "import random\n",
    "rand_list = random.choices(df.index, k=k)\n",
    "df = df.loc[rand_list]"
   ]
  },
  {
   "cell_type": "code",
   "execution_count": 13,
   "metadata": {},
   "outputs": [],
   "source": [
    "# Select the columns to work with\n",
    "cols  = ['Product', 'Consumer complaint narrative']\n",
    "\n",
    "df = df[cols]\n",
    "\n",
    "# Convert the labels into numbers from 0 to 17\n",
    "df['category_id'] = df['Product'].factorize()[0]\n",
    "\n",
    "# Constructing dict for lines bellow\n",
    "category_id_df = df[['Product', 'category_id']].drop_duplicates().sort_values('category_id')\n",
    "category_to_id = dict(category_id_df.values)\n",
    "id_to_category = dict(category_id_df[['category_id', 'Product']].values)"
   ]
  },
  {
   "cell_type": "code",
   "execution_count": 14,
   "metadata": {},
   "outputs": [
    {
     "data": {
      "text/html": [
       "<div>\n",
       "<style scoped>\n",
       "    .dataframe tbody tr th:only-of-type {\n",
       "        vertical-align: middle;\n",
       "    }\n",
       "\n",
       "    .dataframe tbody tr th {\n",
       "        vertical-align: top;\n",
       "    }\n",
       "\n",
       "    .dataframe thead th {\n",
       "        text-align: right;\n",
       "    }\n",
       "</style>\n",
       "<table border=\"1\" class=\"dataframe\">\n",
       "  <thead>\n",
       "    <tr style=\"text-align: right;\">\n",
       "      <th></th>\n",
       "      <th>Product</th>\n",
       "      <th>Consumer complaint narrative</th>\n",
       "      <th>category_id</th>\n",
       "    </tr>\n",
       "  </thead>\n",
       "  <tbody>\n",
       "    <tr>\n",
       "      <th>566869</th>\n",
       "      <td>Credit card</td>\n",
       "      <td>1. In XXXX of XXXX, without notice I stopped r...</td>\n",
       "      <td>0</td>\n",
       "    </tr>\n",
       "    <tr>\n",
       "      <th>104193</th>\n",
       "      <td>Other Personal Consumer Reports</td>\n",
       "      <td>Dear Experian, I checked my personal credit re...</td>\n",
       "      <td>1</td>\n",
       "    </tr>\n",
       "    <tr>\n",
       "      <th>691581</th>\n",
       "      <td>Other Personal Consumer Reports</td>\n",
       "      <td>Experian credit reporting agency did not remov...</td>\n",
       "      <td>1</td>\n",
       "    </tr>\n",
       "    <tr>\n",
       "      <th>436562</th>\n",
       "      <td>Other Personal Consumer Reports</td>\n",
       "      <td>1. Derogatory Information : XXXX - XXXX/XXXX -...</td>\n",
       "      <td>1</td>\n",
       "    </tr>\n",
       "    <tr>\n",
       "      <th>287012</th>\n",
       "      <td>Debt collection</td>\n",
       "      <td>there is a collection notice on my credit repo...</td>\n",
       "      <td>2</td>\n",
       "    </tr>\n",
       "  </tbody>\n",
       "</table>\n",
       "</div>"
      ],
      "text/plain": [
       "                                Product  \\\n",
       "566869                      Credit card   \n",
       "104193  Other Personal Consumer Reports   \n",
       "691581  Other Personal Consumer Reports   \n",
       "436562  Other Personal Consumer Reports   \n",
       "287012                  Debt collection   \n",
       "\n",
       "                             Consumer complaint narrative  category_id  \n",
       "566869  1. In XXXX of XXXX, without notice I stopped r...            0  \n",
       "104193  Dear Experian, I checked my personal credit re...            1  \n",
       "691581  Experian credit reporting agency did not remov...            1  \n",
       "436562  1. Derogatory Information : XXXX - XXXX/XXXX -...            1  \n",
       "287012  there is a collection notice on my credit repo...            2  "
      ]
     },
     "execution_count": 14,
     "metadata": {},
     "output_type": "execute_result"
    }
   ],
   "source": [
    "df.head()"
   ]
  },
  {
   "cell_type": "code",
   "execution_count": 15,
   "metadata": {},
   "outputs": [],
   "source": [
    "# Omit these lines because the lines below take it\n",
    "\n",
    "# Convert the complaint narrative column to lower case\n",
    "#df['in_process_narrative'] = df['Consumer complaint narrative'].str.lower()\n",
    "\n",
    "# Remove Punctuations\n",
    "#df['in_process_narrative'] = df['in_process_narrative'].str.replace('[^\\w\\s]','')\n",
    "\n",
    "# Tokenize the complaint narrative\n",
    "#df['in_process_narrative'] = df['in_process_narrative'].apply(word_tokenize)\n",
    "\n",
    "# Remove Stopwords\n",
    "#stop_words = stopwords.words('english')\n",
    "#df['in_process_narrative'] = df['in_process_narrative'].apply(lambda x: [word for word in x \n",
    "#                                                                          if word not in stop_words])\n",
    "# Do some lemmatization for example \"troubling\" would map to \"trouble\"\n",
    "#wordnet = WordNetLemmatizer()\n",
    "#df['cleaned_narrative'] = df['in_process_narrative'].apply(lambda tokens: [wordnet.lemmatize(token) for token in tokens])\n"
   ]
  },
  {
   "cell_type": "code",
   "execution_count": 16,
   "metadata": {},
   "outputs": [
    {
     "data": {
      "text/plain": [
       "(20000, 52906)"
      ]
     },
     "execution_count": 16,
     "metadata": {},
     "output_type": "execute_result"
    }
   ],
   "source": [
    "# Convert each complaint narrative into vectors. Also removes stopwords\n",
    "import sklearn \n",
    "from sklearn.feature_extraction.text import TfidfVectorizer\n",
    "\n",
    "tfidf = TfidfVectorizer(sublinear_tf=True, min_df=5, norm='l2', encoding='latin-1', \n",
    "                        ngram_range=(1,2), stop_words='english')\n",
    "\n",
    "features = tfidf.fit_transform(df['Consumer complaint narrative']).toarray()\n",
    "labels = df['category_id']\n",
    "features.shape"
   ]
  },
  {
   "cell_type": "code",
   "execution_count": 17,
   "metadata": {},
   "outputs": [
    {
     "name": "stdout",
     "output_type": "stream",
     "text": [
      "# 'Bank account or service':\n",
      "  . Most correlated unigrams:\n",
      ". citigold\n",
      ". overdraft\n",
      "  . Most correlated bigrams:\n",
      ". overdraft fees\n",
      ". checking account\n",
      "# 'Checking or savings account':\n",
      "  . Most correlated unigrams:\n",
      ". overdraft\n",
      ". deposit\n",
      "  . Most correlated bigrams:\n",
      ". 00 bonus\n",
      ". checking account\n",
      "# 'Consumer Loan':\n",
      "  . Most correlated unigrams:\n",
      ". car\n",
      ". vehicle\n",
      "  . Most correlated bigrams:\n",
      ". later car\n",
      ". toyota financial\n",
      "# 'Credit card':\n",
      "  . Most correlated unigrams:\n",
      ". macy\n",
      ". card\n",
      "  . Most correlated bigrams:\n",
      ". american express\n",
      ". credit card\n",
      "# 'Credit card or prepaid card':\n",
      "  . Most correlated unigrams:\n",
      ". amex\n",
      ". card\n",
      "  . Most correlated bigrams:\n",
      ". american express\n",
      ". credit card\n",
      "# 'Credit reporting':\n",
      "  . Most correlated unigrams:\n",
      ". experian\n",
      ". equifax\n",
      "  . Most correlated bigrams:\n",
      ". tax lien\n",
      ". trans union\n",
      "# 'Debt collection':\n",
      "  . Most correlated unigrams:\n",
      ". collection\n",
      ". debt\n",
      "  . Most correlated bigrams:\n",
      ". collect debt\n",
      ". collection agency\n",
      "# 'Money transfer, virtual currency, or money service':\n",
      "  . Most correlated unigrams:\n",
      ". paypal\n",
      ". coinbase\n",
      "  . Most correlated bigrams:\n",
      ". coinbase com\n",
      ". coinbase account\n",
      "# 'Money transfers':\n",
      "  . Most correlated unigrams:\n",
      ". western\n",
      ". moneygram\n",
      "  . Most correlated bigrams:\n",
      ". money transfer\n",
      ". western union\n",
      "# 'Mortgage':\n",
      "  . Most correlated unigrams:\n",
      ". modification\n",
      ". mortgage\n",
      "  . Most correlated bigrams:\n",
      ". mortgage company\n",
      ". loan modification\n",
      "# 'Other Personal Consumer Reports':\n",
      "  . Most correlated unigrams:\n",
      ". equifax\n",
      ". inquiries\n",
      "  . Most correlated bigrams:\n",
      ". appear report\n",
      ". credit report\n",
      "# 'Other financial service':\n",
      "  . Most correlated unigrams:\n",
      ". durable\n",
      ". apple\n",
      "  . Most correlated bigrams:\n",
      ". durable power\n",
      ". check cashing\n",
      "# 'Payday loan':\n",
      "  . Most correlated unigrams:\n",
      ". bounce\n",
      ". payday\n",
      "  . Most correlated bigrams:\n",
      ". payday loan\n",
      ". big picture\n",
      "# 'Payday loan, title loan, or personal loan':\n",
      "  . Most correlated unigrams:\n",
      ". avant\n",
      ". speedy\n",
      "  . Most correlated bigrams:\n",
      ". title loan\n",
      ". speedy cash\n",
      "# 'Prepaid card':\n",
      "  . Most correlated unigrams:\n",
      ". rush\n",
      ". rushcard\n",
      "  . Most correlated bigrams:\n",
      ". direct express\n",
      ". rush card\n",
      "# 'Student loan':\n",
      "  . Most correlated unigrams:\n",
      ". loans\n",
      ". navient\n",
      "  . Most correlated bigrams:\n",
      ". student loan\n",
      ". student loans\n",
      "# 'Vehicle loan or lease':\n",
      "  . Most correlated unigrams:\n",
      ". vehicle\n",
      ". car\n",
      "  . Most correlated bigrams:\n",
      ". gap insurance\n",
      ". gm financial\n"
     ]
    }
   ],
   "source": [
    "# Looking for the most correlated terms using chi2\n",
    "from sklearn.feature_selection import chi2\n",
    "\n",
    "N = 2\n",
    "for Product, category_id in sorted(category_to_id.items()):\n",
    "    features_chi2 = chi2(features, labels == category_id)\n",
    "    indices = np.argsort(features_chi2[0])\n",
    "    feature_names = np.array(tfidf.get_feature_names())[indices]\n",
    "    unigrams = [v for v in feature_names if len(v.split(' ')) == 1]\n",
    "    bigrams = [v for v in feature_names if len(v.split(' ')) == 2]\n",
    "    print(\"# '{}':\".format(Product))\n",
    "    print(\"  . Most correlated unigrams:\\n. {}\".format('\\n. '.join(unigrams[-N:])))\n",
    "    print(\"  . Most correlated bigrams:\\n. {}\".format('\\n. '.join(bigrams[-N:])))"
   ]
  },
  {
   "cell_type": "markdown",
   "metadata": {},
   "source": [
    "### Multiclass Classifier : Features and Design\n",
    "Vector of words need to be transformed into vector of numbers and then into TF-IDF weighted \n",
    "vectors before feeding the classifier"
   ]
  },
  {
   "cell_type": "code",
   "execution_count": 18,
   "metadata": {},
   "outputs": [
    {
     "name": "stdout",
     "output_type": "stream",
     "text": [
      "The prediction of this complaint is : ['Debt collection']\n"
     ]
    }
   ],
   "source": [
    "# Setting the train and test data.\n",
    "# Convert vectors into TF-IDF weighted vectors and use a classifier to predict the category of \n",
    "# a complaint\n",
    "\n",
    "from sklearn.feature_extraction.text import CountVectorizer\n",
    "from sklearn.feature_extraction.text import TfidfTransformer\n",
    "from sklearn.model_selection import train_test_split\n",
    "from sklearn.naive_bayes import MultinomialNB\n",
    "\n",
    "X_train, X_test, y_train, y_test = train_test_split(df['Consumer complaint narrative'], \n",
    "                                                    df['Product'], test_size=0.2, \n",
    "                                                    random_state=42)\n",
    "count_vect = CountVectorizer()\n",
    "X_train_counts = count_vect.fit_transform(X_train)\n",
    "tfidf_transformer = TfidfTransformer()\n",
    "X_train_tfidf = tfidf_transformer.fit_transform(X_train_counts)\n",
    "\n",
    "classifier = MultinomialNB().fit(X_train_tfidf, y_train)\n",
    "complaint = \"This company refuses to provide me verification and validation of debt per my right under the FDCPA. I do not believe this debt is mine.\"\n",
    "print('The prediction of this complaint is :', classifier.predict(count_vect.transform([complaint])))"
   ]
  },
  {
   "cell_type": "markdown",
   "metadata": {},
   "source": [
    "### Model Selection\n",
    "In general we need to compare between different classification models to select the model with best accuracy. But to simplify the process, we will select the **Linear Support Vector Machine**, because is known that it has great performance."
   ]
  },
  {
   "cell_type": "markdown",
   "metadata": {},
   "source": [
    "### Model Evaluation\n",
    "Continuing with our best model (LinearSVC), we are going to look at the confusion matrix, and show the discrepancies between predicted and actual labels."
   ]
  },
  {
   "cell_type": "code",
   "execution_count": 19,
   "metadata": {},
   "outputs": [
    {
     "data": {
      "image/png": "[encoded data removed]",
      "text/plain": [
       "<Figure size 648x720 with 2 Axes>"
      ]
     },
     "metadata": {
      "needs_background": "light"
     },
     "output_type": "display_data"
    }
   ],
   "source": [
    "# Plotting the confusion matrix in a heatmap\n",
    "# As you see there are some missclassified complaints but these errors will happen. \n",
    "\n",
    "from sklearn.svm import LinearSVC\n",
    "\n",
    "model = LinearSVC()\n",
    "X_train, X_test, y_train, y_test = train_test_split(features, labels, test_size=0.33, \n",
    "                                                    random_state=0)\n",
    "model.fit(X_train, y_train)\n",
    "y_pred = model.predict(X_test)\n",
    "\n",
    "\n",
    "from sklearn.metrics import confusion_matrix\n",
    "conf_mat = confusion_matrix(y_test, y_pred)\n",
    "fig, ax = plt.subplots(figsize=(9,10))\n",
    "\n",
    "sns.heatmap(conf_mat, annot=True, fmt='d', xticklabels=category_id_df.Product.values,\n",
    "            yticklabels=category_id_df.Product.values,cmap=\"coolwarm\")\n",
    "ax.set_ylim(len(conf_mat), -0.5)\n",
    "plt.ylabel('Actual')\n",
    "plt.xlabel('Predicted')\n",
    "plt.show()"
   ]
  },
  {
   "cell_type": "code",
   "execution_count": 20,
   "metadata": {},
   "outputs": [
    {
     "name": "stdout",
     "output_type": "stream",
     "text": [
      "# 'Bank account or service':\n",
      "  . Top unigrams:\n",
      "       . bank\n",
      "       . scottrade\n",
      "  . Top bigrams:\n",
      "       . xx 2017\n",
      "       . checking account\n",
      "# 'Checking or savings account':\n",
      "  . Top unigrams:\n",
      "       . bank\n",
      "       . bonus\n",
      "  . Top bigrams:\n",
      "       . debit card\n",
      "       . fee charge\n",
      "# 'Consumer Loan':\n",
      "  . Top unigrams:\n",
      "       . loan\n",
      "       . vehicle\n",
      "  . Top bigrams:\n",
      "       . person looking\n",
      "       . financial services\n",
      "# 'Credit card':\n",
      "  . Top unigrams:\n",
      "       . card\n",
      "       . macy\n",
      "  . Top bigrams:\n",
      "       . xx 2016\n",
      "       . dates 30\n",
      "# 'Credit card or prepaid card':\n",
      "  . Top unigrams:\n",
      "       . card\n",
      "       . capital\n",
      "  . Top bigrams:\n",
      "       . late fees\n",
      "       . balance transfer\n",
      "# 'Credit reporting':\n",
      "  . Top unigrams:\n",
      "       . transunion\n",
      "       . equifax\n",
      "  . Top bigrams:\n",
      "       . unauthorized fraudulent\n",
      "       . xxxx agencies\n",
      "# 'Debt collection':\n",
      "  . Top unigrams:\n",
      "       . debt\n",
      "       . collection\n",
      "  . Top bigrams:\n",
      "       . card debt\n",
      "       . knowledge fraudulent\n",
      "# 'Money transfer, virtual currency, or money service':\n",
      "  . Top unigrams:\n",
      "       . coinbase\n",
      "       . paypal\n",
      "  . Top bigrams:\n",
      "       . western union\n",
      "       . cash app\n",
      "# 'Money transfers':\n",
      "  . Top unigrams:\n",
      "       . moneygram\n",
      "       . transfer\n",
      "  . Top bigrams:\n",
      "       . western union\n",
      "       . money transfer\n",
      "# 'Mortgage':\n",
      "  . Top unigrams:\n",
      "       . mortgage\n",
      "       . escrow\n",
      "  . Top bigrams:\n",
      "       . quicken loans\n",
      "       . xxxx payment\n",
      "# 'Other Personal Consumer Reports':\n",
      "  . Top unigrams:\n",
      "       . freeze\n",
      "       . breach\n",
      "  . Top bigrams:\n",
      "       . xxxx xxxx\n",
      "       . xxxx transunion\n",
      "# 'Other financial service':\n",
      "  . Top unigrams:\n",
      "       . apple\n",
      "       . scam\n",
      "  . Top bigrams:\n",
      "       . check cashing\n",
      "       . credit repair\n",
      "# 'Payday loan':\n",
      "  . Top unigrams:\n",
      "       . payday\n",
      "       . wednesday\n",
      "  . Top bigrams:\n",
      "       . applied loan\n",
      "       . big picture\n",
      "# 'Payday loan, title loan, or personal loan':\n",
      "  . Top unigrams:\n",
      "       . loan\n",
      "       . borrowed\n",
      "  . Top bigrams:\n",
      "       . line credit\n",
      "       . 00 loan\n",
      "# 'Prepaid card':\n",
      "  . Top unigrams:\n",
      "       . rushcard\n",
      "       . prepaid\n",
      "  . Top bigrams:\n",
      "       . rush card\n",
      "       . direct deposits\n",
      "# 'Student loan':\n",
      "  . Top unigrams:\n",
      "       . navient\n",
      "       . loans\n",
      "  . Top bigrams:\n",
      "       . private loan\n",
      "       . loan forgiveness\n",
      "# 'Vehicle loan or lease':\n",
      "  . Top unigrams:\n",
      "       . car\n",
      "       . vehicle\n",
      "  . Top bigrams:\n",
      "       . debt valid\n",
      "       . bought car\n"
     ]
    }
   ],
   "source": [
    "# Again Use chi-squared test to find the terms that are the most correlated with each of the\n",
    "# categories. Check the consistency\n",
    "\n",
    "model.fit(features, labels)\n",
    "N = 2\n",
    "for Product, category_id in sorted(category_to_id.items()):\n",
    "    indices = np.argsort(model.coef_[category_id])\n",
    "    feature_names = np.array(tfidf.get_feature_names())[indices]\n",
    "    unigrams = [v for v in reversed(feature_names) if len(v.split(' ')) == 1][:N]\n",
    "    bigrams = [v for v in reversed(feature_names) if len(v.split(' ')) == 2][:N]\n",
    "    print(\"# '{}':\".format(Product))\n",
    "    print(\"  . Top unigrams:\\n       . {}\".format('\\n       . '.join(unigrams)))\n",
    "    print(\"  . Top bigrams:\\n       . {}\".format('\\n       . '.join(bigrams)))"
   ]
  },
  {
   "cell_type": "code",
   "execution_count": null,
   "metadata": {},
   "outputs": [],
   "source": []
  },
  {
   "cell_type": "code",
   "execution_count": 21,
   "metadata": {},
   "outputs": [
    {
     "name": "stdout",
     "output_type": "stream",
     "text": [
      "                                                    precision    recall  f1-score   support\n",
      "\n",
      "                                       Credit card       0.48      0.40      0.44       237\n",
      "                   Other Personal Consumer Reports       0.72      0.82      0.77      1848\n",
      "                                   Debt collection       0.77      0.84      0.81      1461\n",
      "                       Credit card or prepaid card       0.58      0.65      0.61       428\n",
      "                             Vehicle loan or lease       0.49      0.35      0.41       112\n",
      "Money transfer, virtual currency, or money service       0.70      0.60      0.65       115\n",
      "                                  Credit reporting       0.56      0.30      0.39       449\n",
      "                           Bank account or service       0.42      0.37      0.39       172\n",
      "                                     Consumer Loan       0.51      0.31      0.39       116\n",
      "                                          Mortgage       0.88      0.94      0.91       899\n",
      "                       Checking or savings account       0.60      0.62      0.61       272\n",
      "                                      Student loan       0.86      0.79      0.83       340\n",
      "                                       Payday loan       0.40      0.10      0.15        21\n",
      "                                      Prepaid card       0.83      0.23      0.36        22\n",
      "         Payday loan, title loan, or personal loan       0.48      0.13      0.20        87\n",
      "                                   Money transfers       1.00      0.10      0.18        20\n",
      "                           Other financial service       0.00      0.00      0.00         1\n",
      "\n",
      "                                          accuracy                           0.72      6600\n",
      "                                         macro avg       0.61      0.44      0.48      6600\n",
      "                                      weighted avg       0.71      0.72      0.71      6600\n",
      "\n"
     ]
    },
    {
     "name": "stderr",
     "output_type": "stream",
     "text": [
      "/Users/carlosalbertoleonliza/opt/anaconda3/lib/python3.8/site-packages/sklearn/metrics/_classification.py:1221: UndefinedMetricWarning: Precision and F-score are ill-defined and being set to 0.0 in labels with no predicted samples. Use `zero_division` parameter to control this behavior.\n",
      "  _warn_prf(average, modifier, msg_start, len(result))\n"
     ]
    }
   ],
   "source": [
    "# Print out the classification report\n",
    "\n",
    "from sklearn import metrics\n",
    "print(metrics.classification_report(y_test, y_pred, target_names=df['Product'].unique()))"
   ]
  },
  {
   "cell_type": "code",
   "execution_count": null,
   "metadata": {},
   "outputs": [],
   "source": []
  }
 ],
 "metadata": {
  "kernelspec": {
   "display_name": "Python 3",
   "language": "python",
   "name": "python3"
  },
  "language_info": {
   "codemirror_mode": {
    "name": "ipython",
    "version": 3
   },
   "file_extension": ".py",
   "mimetype": "text/x-python",
   "name": "python",
   "nbconvert_exporter": "python",
   "pygments_lexer": "ipython3",
   "version": "3.8.5"
  }
 },
 "nbformat": 4,
 "nbformat_minor": 4
}
